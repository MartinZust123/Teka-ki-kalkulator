{
 "cells": [
  {
   "cell_type": "code",
   "execution_count": 1,
   "metadata": {},
   "outputs": [
    {
     "name": "stdout",
     "output_type": "stream",
     "text": [
      "Collecting mpld3\n",
      "  Downloading mpld3-0.5.9-py3-none-any.whl (201 kB)\n",
      "     -------------------------------------- 201.2/201.2 kB 1.5 MB/s eta 0:00:00\n",
      "Requirement already satisfied: jinja2 in c:\\users\\marti\\appdata\\local\\programs\\python\\python39\\lib\\site-packages (from mpld3) (3.1.2)\n",
      "Requirement already satisfied: matplotlib in c:\\users\\marti\\appdata\\local\\programs\\python\\python39\\lib\\site-packages (from mpld3) (3.7.2)\n",
      "Requirement already satisfied: MarkupSafe>=2.0 in c:\\users\\marti\\appdata\\local\\programs\\python\\python39\\lib\\site-packages (from jinja2->mpld3) (2.1.1)\n",
      "Requirement already satisfied: contourpy>=1.0.1 in c:\\users\\marti\\appdata\\local\\programs\\python\\python39\\lib\\site-packages (from matplotlib->mpld3) (1.0.5)\n",
      "Requirement already satisfied: cycler>=0.10 in c:\\users\\marti\\appdata\\local\\programs\\python\\python39\\lib\\site-packages (from matplotlib->mpld3) (0.11.0)\n",
      "Requirement already satisfied: fonttools>=4.22.0 in c:\\users\\marti\\appdata\\local\\programs\\python\\python39\\lib\\site-packages (from matplotlib->mpld3) (4.38.0)\n",
      "Requirement already satisfied: kiwisolver>=1.0.1 in c:\\users\\marti\\appdata\\local\\programs\\python\\python39\\lib\\site-packages (from matplotlib->mpld3) (1.4.4)\n",
      "Requirement already satisfied: numpy>=1.20 in c:\\users\\marti\\appdata\\local\\programs\\python\\python39\\lib\\site-packages (from matplotlib->mpld3) (1.23.3)\n",
      "Requirement already satisfied: packaging>=20.0 in c:\\users\\marti\\appdata\\roaming\\python\\python39\\site-packages (from matplotlib->mpld3) (21.3)\n",
      "Requirement already satisfied: pillow>=6.2.0 in c:\\users\\marti\\appdata\\local\\programs\\python\\python39\\lib\\site-packages (from matplotlib->mpld3) (9.2.0)\n",
      "Requirement already satisfied: pyparsing<3.1,>=2.3.1 in c:\\users\\marti\\appdata\\roaming\\python\\python39\\site-packages (from matplotlib->mpld3) (3.0.9)\n",
      "Requirement already satisfied: python-dateutil>=2.7 in c:\\users\\marti\\appdata\\local\\programs\\python\\python39\\lib\\site-packages (from matplotlib->mpld3) (2.8.2)\n",
      "Requirement already satisfied: importlib-resources>=3.2.0 in c:\\users\\marti\\appdata\\local\\programs\\python\\python39\\lib\\site-packages (from matplotlib->mpld3) (6.0.1)\n",
      "Requirement already satisfied: zipp>=3.1.0 in c:\\users\\marti\\appdata\\local\\programs\\python\\python39\\lib\\site-packages (from importlib-resources>=3.2.0->matplotlib->mpld3) (3.8.1)\n",
      "Requirement already satisfied: six>=1.5 in c:\\users\\marti\\appdata\\roaming\\python\\python39\\site-packages (from python-dateutil>=2.7->matplotlib->mpld3) (1.15.0)\n",
      "Installing collected packages: mpld3\n",
      "Successfully installed mpld3-0.5.9\n",
      "Note: you may need to restart the kernel to use updated packages.\n"
     ]
    },
    {
     "name": "stderr",
     "output_type": "stream",
     "text": [
      "WARNING: Ignoring invalid distribution -ip (c:\\users\\marti\\appdata\\local\\programs\\python\\python39\\lib\\site-packages)\n",
      "WARNING: Ignoring invalid distribution -ip (c:\\users\\marti\\appdata\\local\\programs\\python\\python39\\lib\\site-packages)\n"
     ]
    }
   ],
   "source": [
    "pip install mpld3"
   ]
  }
 ],
 "metadata": {
  "kernelspec": {
   "display_name": "Python 3",
   "language": "python",
   "name": "python3"
  },
  "language_info": {
   "codemirror_mode": {
    "name": "ipython",
    "version": 3
   },
   "file_extension": ".py",
   "mimetype": "text/x-python",
   "name": "python",
   "nbconvert_exporter": "python",
   "pygments_lexer": "ipython3",
   "version": "3.9.1"
  },
  "orig_nbformat": 4
 },
 "nbformat": 4,
 "nbformat_minor": 2
}
